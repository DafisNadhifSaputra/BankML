{
  "cells": [
    {
      "cell_type": "markdown",
      "metadata": {
        "id": "0tvAKGat01Sd"
      },
      "source": [
        "# **Submission Akhir BMLP - Analisis Klasifikasi**\n",
        "**Nama:** Dafis Nadhif Saputra  \n",
        "**Topik:** Implementasi Model Klasifikasi untuk Prediksi Target dari Hasil Clustering\n",
        "\n",
        "Notebook ini berisi implementasi berbagai algoritma klasifikasi untuk memprediksi target berdasarkan hasil clustering yang telah dilakukan sebelumnya."
      ]
    },
    {
      "cell_type": "markdown",
      "metadata": {
        "id": "fKADPWcFKlj3"
      },
      "source": [
        "## Konsep Klasifikasi\n",
        "\n",
        "**Klasifikasi** adalah teknik machine learning untuk memprediksi kategori atau label dari data baru berdasarkan pola yang dipelajari dari data training. Dalam analisis ini, kita akan menggunakan hasil clustering sebelumnya sebagai target untuk melatih model klasifikasi.\n",
        "\n",
        "**Analogi sederhana:** Seperti dokter yang mendiagnosis penyakit berdasarkan gejala-gejala yang diamati, model klasifikasi memprediksi cluster mana yang paling cocok untuk data transaksi baru berdasarkan karakteristik finansialnya."
      ]
    },
    {
      "cell_type": "code",
      "execution_count": 1,
      "metadata": {
        "id": "BlmvjLY9M4Yj"
      },
      "outputs": [],
      "source": [
        "import pandas as pd\n",
        "from sklearn.model_selection import train_test_split\n",
        "from sklearn.tree import DecisionTreeClassifier\n",
        "from sklearn.metrics import accuracy_score, precision_score, recall_score, f1_score\n",
        "import joblib\n",
        "\n",
        "#Type your code here"
      ]
    },
    {
      "cell_type": "markdown",
      "metadata": {
        "id": "f3YIEnAFKrKL"
      },
      "source": [
        "# **2. Memuat Dataset dari Hasil Clustering**\n",
        "Memuat dataset hasil clustering dari file CSV ke dalam variabel DataFrame.\n",
        "\n",
        "## Import Library dan Load Data"
      ]
    },
    {
      "cell_type": "code",
      "execution_count": null,
      "metadata": {
        "id": "GHCGNTyrM5fS"
      },
      "outputs": [],
      "source": [
        "df = pd.read_csv('data_clustering.csv')"
      ]
    },
    {
      "cell_type": "code",
      "execution_count": 3,
      "metadata": {
        "id": "bCsep0NZ0LUf"
      },
      "outputs": [
        {
          "data": {
            "text/html": [
              "<div>\n",
              "<style scoped>\n",
              "    .dataframe tbody tr th:only-of-type {\n",
              "        vertical-align: middle;\n",
              "    }\n",
              "\n",
              "    .dataframe tbody tr th {\n",
              "        vertical-align: top;\n",
              "    }\n",
              "\n",
              "    .dataframe thead th {\n",
              "        text-align: right;\n",
              "    }\n",
              "</style>\n",
              "<table border=\"1\" class=\"dataframe\">\n",
              "  <thead>\n",
              "    <tr style=\"text-align: right;\">\n",
              "      <th></th>\n",
              "      <th>TransactionAmount</th>\n",
              "      <th>TransactionType</th>\n",
              "      <th>Location</th>\n",
              "      <th>Channel</th>\n",
              "      <th>CustomerAge</th>\n",
              "      <th>CustomerOccupation</th>\n",
              "      <th>TransactionDuration</th>\n",
              "      <th>LoginAttempts</th>\n",
              "      <th>AccountBalance</th>\n",
              "      <th>Target</th>\n",
              "    </tr>\n",
              "  </thead>\n",
              "  <tbody>\n",
              "    <tr>\n",
              "      <th>0</th>\n",
              "      <td>0.007554</td>\n",
              "      <td>1</td>\n",
              "      <td>36</td>\n",
              "      <td>0</td>\n",
              "      <td>0.838710</td>\n",
              "      <td>0</td>\n",
              "      <td>0.244828</td>\n",
              "      <td>0.0</td>\n",
              "      <td>0.336790</td>\n",
              "      <td>3</td>\n",
              "    </tr>\n",
              "    <tr>\n",
              "      <th>1</th>\n",
              "      <td>0.205368</td>\n",
              "      <td>1</td>\n",
              "      <td>15</td>\n",
              "      <td>0</td>\n",
              "      <td>0.806452</td>\n",
              "      <td>0</td>\n",
              "      <td>0.451724</td>\n",
              "      <td>0.0</td>\n",
              "      <td>0.918049</td>\n",
              "      <td>2</td>\n",
              "    </tr>\n",
              "    <tr>\n",
              "      <th>2</th>\n",
              "      <td>0.068840</td>\n",
              "      <td>1</td>\n",
              "      <td>23</td>\n",
              "      <td>2</td>\n",
              "      <td>0.016129</td>\n",
              "      <td>3</td>\n",
              "      <td>0.158621</td>\n",
              "      <td>0.0</td>\n",
              "      <td>0.068578</td>\n",
              "      <td>0</td>\n",
              "    </tr>\n",
              "    <tr>\n",
              "      <th>3</th>\n",
              "      <td>0.100636</td>\n",
              "      <td>1</td>\n",
              "      <td>33</td>\n",
              "      <td>2</td>\n",
              "      <td>0.129032</td>\n",
              "      <td>3</td>\n",
              "      <td>0.051724</td>\n",
              "      <td>0.0</td>\n",
              "      <td>0.569170</td>\n",
              "      <td>3</td>\n",
              "    </tr>\n",
              "    <tr>\n",
              "      <th>4</th>\n",
              "      <td>0.050192</td>\n",
              "      <td>1</td>\n",
              "      <td>28</td>\n",
              "      <td>0</td>\n",
              "      <td>0.000000</td>\n",
              "      <td>3</td>\n",
              "      <td>0.558621</td>\n",
              "      <td>0.0</td>\n",
              "      <td>0.045677</td>\n",
              "      <td>0</td>\n",
              "    </tr>\n",
              "  </tbody>\n",
              "</table>\n",
              "</div>"
            ],
            "text/plain": [
              "   TransactionAmount  TransactionType  Location  Channel  CustomerAge  \\\n",
              "0           0.007554                1        36        0     0.838710   \n",
              "1           0.205368                1        15        0     0.806452   \n",
              "2           0.068840                1        23        2     0.016129   \n",
              "3           0.100636                1        33        2     0.129032   \n",
              "4           0.050192                1        28        0     0.000000   \n",
              "\n",
              "   CustomerOccupation  TransactionDuration  LoginAttempts  AccountBalance  \\\n",
              "0                   0             0.244828            0.0        0.336790   \n",
              "1                   0             0.451724            0.0        0.918049   \n",
              "2                   3             0.158621            0.0        0.068578   \n",
              "3                   3             0.051724            0.0        0.569170   \n",
              "4                   3             0.558621            0.0        0.045677   \n",
              "\n",
              "   Target  \n",
              "0       3  \n",
              "1       2  \n",
              "2       0  \n",
              "3       3  \n",
              "4       0  "
            ]
          },
          "execution_count": 3,
          "metadata": {},
          "output_type": "execute_result"
        }
      ],
      "source": [
        "df.head()"
      ]
    },
    {
      "cell_type": "markdown",
      "metadata": {
        "id": "KkPem5eWL2UP"
      },
      "source": [
        "# **3. Data Splitting**\n",
        "Tahap Data Splitting bertujuan untuk memisahkan dataset menjadi dua bagian: data latih (training set) dan data uji (test set).\n",
        "\n",
        "## Exploratory Data Analysis (EDA)"
      ]
    },
    {
      "cell_type": "code",
      "execution_count": 4,
      "metadata": {
        "id": "OubAW-7ONKVj"
      },
      "outputs": [],
      "source": [
        "# Menggunakan train_test_split() untuk melakukan pembagian dataset.\n",
        "\n",
        "X = df.drop('Target', axis=1)\n",
        "y = df['Target']\n",
        "X_train, X_test, y_train, y_test = train_test_split(X, y, test_size=0.2, random_state=42)"
      ]
    },
    {
      "cell_type": "markdown",
      "metadata": {
        "id": "IVPbB03CMhTT"
      },
      "source": [
        "# **4. Membangun Model Klasifikasi**\n",
        "Setelah memilih algoritma klasifikasi yang sesuai, langkah selanjutnya adalah melatih model menggunakan data latih.\n",
        "\n",
        "## Data Preparation untuk Klasifikasi\n",
        "\n",
        "Berikut adalah rekomendasi tahapannya.\n",
        "1. Menggunakan algoritma klasifikasi yaitu Decision Tree.\n",
        "2. Latih model menggunakan data yang sudah dipisah."
      ]
    },
    {
      "cell_type": "code",
      "execution_count": 5,
      "metadata": {
        "id": "4JYxBe87NLDk"
      },
      "outputs": [
        {
          "name": "stdout",
          "output_type": "stream",
          "text": [
            "Decision Tree Results:\n",
            "Accuracy: 1.0000\n",
            "Precision: 1.0000\n",
            "Recall: 1.0000\n",
            "F1-Score: 1.0000\n"
          ]
        }
      ],
      "source": [
        "# Buatlah model klasifikasi menggunakan Decision Tree\n",
        "dt_model = DecisionTreeClassifier(random_state=42)\n",
        "dt_model.fit(X_train, y_train)\n",
        "\n",
        "# Prediksi pada data test\n",
        "y_pred = dt_model.predict(X_test)\n",
        "\n",
        "# Evaluasi model\n",
        "accuracy = accuracy_score(y_test, y_pred)\n",
        "precision = precision_score(y_test, y_pred, average='weighted')\n",
        "recall = recall_score(y_test, y_pred, average='weighted')\n",
        "f1 = f1_score(y_test, y_pred, average='weighted')\n",
        "\n",
        "print(f\"Decision Tree Results:\")\n",
        "print(f\"Accuracy: {accuracy:.4f}\")\n",
        "print(f\"Precision: {precision:.4f}\")\n",
        "print(f\"Recall: {recall:.4f}\")\n",
        "print(f\"F1-Score: {f1:.4f}\")"
      ]
    },
    {
      "cell_type": "code",
      "execution_count": 6,
      "metadata": {
        "id": "P_AakAxghYv-"
      },
      "outputs": [
        {
          "data": {
            "text/plain": [
              "['decision_tree_model.h5']"
            ]
          },
          "execution_count": 6,
          "metadata": {},
          "output_type": "execute_result"
        }
      ],
      "source": [
        "# Menyimpan Model\n",
        "import joblib\n",
        "joblib.dump(dt_model, 'decision_tree_model.h5')"
      ]
    },
    {
      "cell_type": "markdown",
      "metadata": {
        "id": "epO4HhrzBXMg"
      },
      "source": [
        "## Model Exploration - Perbandingan Algoritma Klasifikasi\n",
        "\n"
      ]
    },
    {
      "cell_type": "markdown",
      "metadata": {
        "id": "DNOEZk24uiXu"
      },
      "source": [
        "## Hyperparameter Tuning Model Terbaik"
      ]
    },
    {
      "cell_type": "code",
      "execution_count": 7,
      "metadata": {
        "id": "kB_8LIWMATl6"
      },
      "outputs": [
        {
          "data": {
            "text/html": [
              "<style>#sk-container-id-1 {color: black;}#sk-container-id-1 pre{padding: 0;}#sk-container-id-1 div.sk-toggleable {background-color: white;}#sk-container-id-1 label.sk-toggleable__label {cursor: pointer;display: block;width: 100%;margin-bottom: 0;padding: 0.3em;box-sizing: border-box;text-align: center;}#sk-container-id-1 label.sk-toggleable__label-arrow:before {content: \"▸\";float: left;margin-right: 0.25em;color: #696969;}#sk-container-id-1 label.sk-toggleable__label-arrow:hover:before {color: black;}#sk-container-id-1 div.sk-estimator:hover label.sk-toggleable__label-arrow:before {color: black;}#sk-container-id-1 div.sk-toggleable__content {max-height: 0;max-width: 0;overflow: hidden;text-align: left;background-color: #f0f8ff;}#sk-container-id-1 div.sk-toggleable__content pre {margin: 0.2em;color: black;border-radius: 0.25em;background-color: #f0f8ff;}#sk-container-id-1 input.sk-toggleable__control:checked~div.sk-toggleable__content {max-height: 200px;max-width: 100%;overflow: auto;}#sk-container-id-1 input.sk-toggleable__control:checked~label.sk-toggleable__label-arrow:before {content: \"▾\";}#sk-container-id-1 div.sk-estimator input.sk-toggleable__control:checked~label.sk-toggleable__label {background-color: #d4ebff;}#sk-container-id-1 div.sk-label input.sk-toggleable__control:checked~label.sk-toggleable__label {background-color: #d4ebff;}#sk-container-id-1 input.sk-hidden--visually {border: 0;clip: rect(1px 1px 1px 1px);clip: rect(1px, 1px, 1px, 1px);height: 1px;margin: -1px;overflow: hidden;padding: 0;position: absolute;width: 1px;}#sk-container-id-1 div.sk-estimator {font-family: monospace;background-color: #f0f8ff;border: 1px dotted black;border-radius: 0.25em;box-sizing: border-box;margin-bottom: 0.5em;}#sk-container-id-1 div.sk-estimator:hover {background-color: #d4ebff;}#sk-container-id-1 div.sk-parallel-item::after {content: \"\";width: 100%;border-bottom: 1px solid gray;flex-grow: 1;}#sk-container-id-1 div.sk-label:hover label.sk-toggleable__label {background-color: #d4ebff;}#sk-container-id-1 div.sk-serial::before {content: \"\";position: absolute;border-left: 1px solid gray;box-sizing: border-box;top: 0;bottom: 0;left: 50%;z-index: 0;}#sk-container-id-1 div.sk-serial {display: flex;flex-direction: column;align-items: center;background-color: white;padding-right: 0.2em;padding-left: 0.2em;position: relative;}#sk-container-id-1 div.sk-item {position: relative;z-index: 1;}#sk-container-id-1 div.sk-parallel {display: flex;align-items: stretch;justify-content: center;background-color: white;position: relative;}#sk-container-id-1 div.sk-item::before, #sk-container-id-1 div.sk-parallel-item::before {content: \"\";position: absolute;border-left: 1px solid gray;box-sizing: border-box;top: 0;bottom: 0;left: 50%;z-index: -1;}#sk-container-id-1 div.sk-parallel-item {display: flex;flex-direction: column;z-index: 1;position: relative;background-color: white;}#sk-container-id-1 div.sk-parallel-item:first-child::after {align-self: flex-end;width: 50%;}#sk-container-id-1 div.sk-parallel-item:last-child::after {align-self: flex-start;width: 50%;}#sk-container-id-1 div.sk-parallel-item:only-child::after {width: 0;}#sk-container-id-1 div.sk-dashed-wrapped {border: 1px dashed gray;margin: 0 0.4em 0.5em 0.4em;box-sizing: border-box;padding-bottom: 0.4em;background-color: white;}#sk-container-id-1 div.sk-label label {font-family: monospace;font-weight: bold;display: inline-block;line-height: 1.2em;}#sk-container-id-1 div.sk-label-container {text-align: center;}#sk-container-id-1 div.sk-container {/* jupyter's `normalize.less` sets `[hidden] { display: none; }` but bootstrap.min.css set `[hidden] { display: none !important; }` so we also need the `!important` here to be able to override the default hidden behavior on the sphinx rendered scikit-learn.org. See: https://github.com/scikit-learn/scikit-learn/issues/21755 */display: inline-block !important;position: relative;}#sk-container-id-1 div.sk-text-repr-fallback {display: none;}</style><div id=\"sk-container-id-1\" class=\"sk-top-container\"><div class=\"sk-text-repr-fallback\"><pre>KNeighborsClassifier()</pre><b>In a Jupyter environment, please rerun this cell to show the HTML representation or trust the notebook. <br />On GitHub, the HTML representation is unable to render, please try loading this page with nbviewer.org.</b></div><div class=\"sk-container\" hidden><div class=\"sk-item\"><div class=\"sk-estimator sk-toggleable\"><input class=\"sk-toggleable__control sk-hidden--visually\" id=\"sk-estimator-id-1\" type=\"checkbox\" checked><label for=\"sk-estimator-id-1\" class=\"sk-toggleable__label sk-toggleable__label-arrow\">KNeighborsClassifier</label><div class=\"sk-toggleable__content\"><pre>KNeighborsClassifier()</pre></div></div></div></div></div>"
            ],
            "text/plain": [
              "KNeighborsClassifier()"
            ]
          },
          "execution_count": 7,
          "metadata": {},
          "output_type": "execute_result"
        }
      ],
      "source": [
        "# Melatih model menggunakan algoritma klasifikasi selain Decision Tree.\n",
        "from sklearn.ensemble import RandomForestClassifier\n",
        "from sklearn.svm import SVC\n",
        "from sklearn.neighbors import KNeighborsClassifier\n",
        "\n",
        "# Random Forest\n",
        "rf_model = RandomForestClassifier(random_state=42)\n",
        "rf_model.fit(X_train, y_train)\n",
        "\n",
        "# SVM\n",
        "svm_model = SVC(random_state=42)\n",
        "svm_model.fit(X_train, y_train)\n",
        "\n",
        "# KNN\n",
        "knn_model = KNeighborsClassifier()\n",
        "knn_model.fit(X_train, y_train)"
      ]
    },
    {
      "cell_type": "code",
      "execution_count": 8,
      "metadata": {
        "id": "bRlKm5BVAT91"
      },
      "outputs": [
        {
          "name": "stdout",
          "output_type": "stream",
          "text": [
            "=== Model Comparison ===\n",
            "Random Forest - Accuracy: 1.0000, Precision: 1.0000, Recall: 1.0000, F1-Score: 1.0000\n",
            "SVM - Accuracy: 1.0000, Precision: 1.0000, Recall: 1.0000, F1-Score: 1.0000\n",
            "KNN - Accuracy: 0.9977, Precision: 0.9977, Recall: 0.9977, F1-Score: 0.9977\n",
            "Decision Tree - Accuracy: 1.0000, Precision: 1.0000, Recall: 1.0000, F1-Score: 1.0000\n"
          ]
        }
      ],
      "source": [
        "# Menampilkan hasil evaluasi akurasi, presisi, recall, dan F1-Score pada seluruh algoritma yang sudah dibuat.\n",
        "\n",
        "# Evaluasi Random Forest\n",
        "rf_pred = rf_model.predict(X_test)\n",
        "rf_accuracy = accuracy_score(y_test, rf_pred)\n",
        "rf_precision = precision_score(y_test, rf_pred, average='weighted')\n",
        "rf_recall = recall_score(y_test, rf_pred, average='weighted')\n",
        "rf_f1 = f1_score(y_test, rf_pred, average='weighted')\n",
        "\n",
        "# Evaluasi SVM\n",
        "svm_pred = svm_model.predict(X_test)\n",
        "svm_accuracy = accuracy_score(y_test, svm_pred)\n",
        "svm_precision = precision_score(y_test, svm_pred, average='weighted')\n",
        "svm_recall = recall_score(y_test, svm_pred, average='weighted')\n",
        "svm_f1 = f1_score(y_test, svm_pred, average='weighted')\n",
        "\n",
        "# Evaluasi KNN\n",
        "knn_pred = knn_model.predict(X_test)\n",
        "knn_accuracy = accuracy_score(y_test, knn_pred)\n",
        "knn_precision = precision_score(y_test, knn_pred, average='weighted')\n",
        "knn_recall = recall_score(y_test, knn_pred, average='weighted')\n",
        "knn_f1 = f1_score(y_test, knn_pred, average='weighted')\n",
        "\n",
        "# Tampilkan hasil\n",
        "print(\"=== Model Comparison ===\")\n",
        "print(f\"Random Forest - Accuracy: {rf_accuracy:.4f}, Precision: {rf_precision:.4f}, Recall: {rf_recall:.4f}, F1-Score: {rf_f1:.4f}\")\n",
        "print(f\"SVM - Accuracy: {svm_accuracy:.4f}, Precision: {svm_precision:.4f}, Recall: {svm_recall:.4f}, F1-Score: {svm_f1:.4f}\")\n",
        "print(f\"KNN - Accuracy: {knn_accuracy:.4f}, Precision: {knn_precision:.4f}, Recall: {knn_recall:.4f}, F1-Score: {knn_f1:.4f}\")\n",
        "print(f\"Decision Tree - Accuracy: {accuracy:.4f}, Precision: {precision:.4f}, Recall: {recall:.4f}, F1-Score: {f1:.4f}\")"
      ]
    },
    {
      "cell_type": "code",
      "execution_count": 9,
      "metadata": {
        "id": "dUPItkbXBNkO"
      },
      "outputs": [
        {
          "data": {
            "text/plain": [
              "['explore_KNN_classification.h5']"
            ]
          },
          "execution_count": 9,
          "metadata": {},
          "output_type": "execute_result"
        }
      ],
      "source": [
        "# Menyimpan Model Selain Decision Tree\n",
        "# Model ini bisa lebih dari satu\n",
        "import joblib\n",
        "joblib.dump(rf_model, 'explore_RandomForest_classification.h5')\n",
        "joblib.dump(svm_model, 'explore_SVM_classification.h5')\n",
        "joblib.dump(knn_model, 'explore_KNN_classification.h5')"
      ]
    },
    {
      "cell_type": "markdown",
      "metadata": {
        "id": "u23H2guj-h9h"
      },
      "source": [
        "Hyperparameter Tuning Model\n",
        "\n",
        "Pilih salah satu algoritma yang ingin Anda tuning\n",
        "\n",
        "## Model Evaluation dan Interpretasi"
      ]
    },
    {
      "cell_type": "code",
      "execution_count": 10,
      "metadata": {
        "id": "dFCTxJJq-m-l"
      },
      "outputs": [
        {
          "name": "stdout",
          "output_type": "stream",
          "text": [
            "Best parameters for Random Forest:\n",
            "{'max_depth': 3, 'min_samples_leaf': 1, 'min_samples_split': 2, 'n_estimators': 50}\n"
          ]
        }
      ],
      "source": [
        "# Lakukan Hyperparameter Tuning dan Latih ulang.\n",
        "# Lakukan dalam satu cell ini saja.\n",
        "from sklearn.model_selection import GridSearchCV\n",
        "from sklearn.ensemble import RandomForestClassifier\n",
        "\n",
        "# Parameter untuk tuning Random Forest\n",
        "param_grid = {\n",
        "    'n_estimators': [50, 100, 200],\n",
        "    'max_depth': [3, 5, 10, None],\n",
        "    'min_samples_split': [2, 5, 10],\n",
        "    'min_samples_leaf': [1, 2, 4]\n",
        "}\n",
        "\n",
        "# GridSearchCV untuk Random Forest\n",
        "rf_grid = GridSearchCV(\n",
        "    RandomForestClassifier(random_state=42),\n",
        "    param_grid,\n",
        "    cv=5,\n",
        "    scoring='accuracy',\n",
        "    n_jobs=-1\n",
        ")\n",
        "\n",
        "# Fit the grid search\n",
        "rf_grid.fit(X_train, y_train)\n",
        "\n",
        "# Best model\n",
        "rf_tuned = rf_grid.best_estimator_\n",
        "print(\"Best parameters for Random Forest:\")\n",
        "print(rf_grid.best_params_)"
      ]
    },
    {
      "cell_type": "code",
      "execution_count": 11,
      "metadata": {
        "id": "1g6EPSSWxjcQ"
      },
      "outputs": [
        {
          "name": "stdout",
          "output_type": "stream",
          "text": [
            "=== Tuned Random Forest Results ===\n",
            "Accuracy: 1.0000\n",
            "Precision: 1.0000\n",
            "Recall: 1.0000\n",
            "F1-Score: 1.0000\n",
            "\n",
            "=== Comparison (Before vs After Tuning) ===\n",
            "Before Tuning - Accuracy: 1.0000, F1-Score: 1.0000\n",
            "After Tuning - Accuracy: 1.0000, F1-Score: 1.0000\n"
          ]
        }
      ],
      "source": [
        "# Menampilkan hasil evaluasi akurasi, presisi, recall, dan F1-Score pada algoritma yang sudah dituning.\n",
        "\n",
        "# Prediksi dengan model yang sudah di-tuning\n",
        "rf_tuned_pred = rf_tuned.predict(X_test)\n",
        "\n",
        "# Evaluasi model yang sudah di-tuning\n",
        "rf_tuned_accuracy = accuracy_score(y_test, rf_tuned_pred)\n",
        "rf_tuned_precision = precision_score(y_test, rf_tuned_pred, average='weighted')\n",
        "rf_tuned_recall = recall_score(y_test, rf_tuned_pred, average='weighted')\n",
        "rf_tuned_f1 = f1_score(y_test, rf_tuned_pred, average='weighted')\n",
        "\n",
        "print(\"=== Tuned Random Forest Results ===\")\n",
        "print(f\"Accuracy: {rf_tuned_accuracy:.4f}\")\n",
        "print(f\"Precision: {rf_tuned_precision:.4f}\")\n",
        "print(f\"Recall: {rf_tuned_recall:.4f}\")\n",
        "print(f\"F1-Score: {rf_tuned_f1:.4f}\")\n",
        "\n",
        "print(\"\\n=== Comparison (Before vs After Tuning) ===\")\n",
        "print(f\"Before Tuning - Accuracy: {rf_accuracy:.4f}, F1-Score: {rf_f1:.4f}\")\n",
        "print(f\"After Tuning - Accuracy: {rf_tuned_accuracy:.4f}, F1-Score: {rf_tuned_f1:.4f}\")"
      ]
    },
    {
      "cell_type": "code",
      "execution_count": 12,
      "metadata": {
        "id": "7UJNcVP--n7S"
      },
      "outputs": [
        {
          "data": {
            "text/plain": [
              "['tuning_classification.h5']"
            ]
          },
          "execution_count": 12,
          "metadata": {},
          "output_type": "execute_result"
        }
      ],
      "source": [
        "# Menyimpan Model hasil tuning\n",
        "import joblib\n",
        "joblib.dump(rf_tuned, 'tuning_classification.h5')"
      ]
    },
    {
      "cell_type": "markdown",
      "metadata": {
        "id": "0Hs4Xp4OiGEk"
      },
      "source": [
        "## Kesimpulan Analisis Klasifikasi\n",
        "\n",
        "Berdasarkan hasil analisis klasifikasi yang telah dilakukan, model berhasil memprediksi cluster target dengan akurasi yang baik. Model terbaik dapat digunakan untuk mengklasifikasikan transaksi bank ke dalam kategori yang sesuai berdasarkan pola spending yang telah diidentifikasi melalui clustering."
      ]
    }
  ],
  "metadata": {
    "colab": {
      "provenance": []
    },
    "kernelspec": {
      "display_name": "Python 3",
      "name": "python3"
    },
    "language_info": {
      "codemirror_mode": {
        "name": "ipython",
        "version": 3
      },
      "file_extension": ".py",
      "mimetype": "text/x-python",
      "name": "python",
      "nbconvert_exporter": "python",
      "pygments_lexer": "ipython3",
      "version": "3.11.4"
    }
  },
  "nbformat": 4,
  "nbformat_minor": 0
}
